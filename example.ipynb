{
  "nbformat": 4,
  "nbformat_minor": 0,
  "metadata": {
    "colab": {
      "provenance": [],
      "gpuType": "T4",
      "include_colab_link": true
    },
    "kernelspec": {
      "name": "python3",
      "display_name": "Python 3"
    },
    "language_info": {
      "name": "python"
    },
    "accelerator": "GPU"
  },
  "cells": [
    {
      "cell_type": "markdown",
      "metadata": {
        "id": "view-in-github",
        "colab_type": "text"
      },
      "source": [
        "<a href=\"https://colab.research.google.com/github/KAYcomeon/1.github.io/blob/main/example.ipynb\" target=\"_parent\"><img src=\"https://colab.research.google.com/assets/colab-badge.svg\" alt=\"Open In Colab\"/></a>"
      ]
    },
    {
      "cell_type": "code",
      "execution_count": 1,
      "metadata": {
        "colab": {
          "base_uri": "https://localhost:8080/"
        },
        "cellView": "form",
        "id": "WCqI8zrlp99U",
        "outputId": "3d2b5e26-277d-4f29-b16e-861622c74bc1"
      },
      "outputs": [
        {
          "output_type": "stream",
          "name": "stdout",
          "text": [
            "Cloning into 'CryptoMamba'...\n",
            "remote: Enumerating objects: 139, done.\u001b[K\n",
            "remote: Counting objects: 100% (139/139), done.\u001b[K\n",
            "remote: Compressing objects: 100% (96/96), done.\u001b[K\n",
            "remote: Total 139 (delta 58), reused 113 (delta 40), pack-reused 0 (from 0)\u001b[K\n",
            "Receiving objects: 100% (139/139), 1.36 MiB | 11.70 MiB/s, done.\n",
            "Resolving deltas: 100% (58/58), done.\n",
            "/content/CryptoMamba\n"
          ]
        }
      ],
      "source": [
        "# @title Cloning\n",
        "!git clone https://github.com/MShahabSepehri/CryptoMamba.git\n",
        "%cd CryptoMamba/"
      ]
    },
    {
      "cell_type": "code",
      "source": [
        "# @title Installing requirements\n",
        "\n",
        "%%capture\n",
        "!pip install mamba-ssm[causal-conv1d]\n",
        "!pip install -r requirements.txt"
      ],
      "metadata": {
        "id": "QoSiNMCtqGj5"
      },
      "execution_count": 2,
      "outputs": []
    },
    {
      "cell_type": "code",
      "source": [
        "# @title Prediction\n",
        "!python scripts/one_day_pred.py --config cmamba_v --ckpt_path ./checkpoints/cmamba_v.ckpt --date 2024-12-15"
      ],
      "metadata": {
        "colab": {
          "base_uri": "https://localhost:8080/"
        },
        "id": "lAU_41CEeho4",
        "outputId": "1e374f6f-36fd-4be0-da07-14340778fb81"
      },
      "execution_count": 3,
      "outputs": [
        {
          "output_type": "stream",
          "name": "stdout",
          "text": [
            "['Timestamp', 'Open', 'High', 'Low', 'Close', 'Volume']\n",
            "['Timestamp', 'Open', 'High', 'Low', 'Close', 'Volume']\n",
            "['Timestamp', 'Open', 'High', 'Low', 'Close', 'Volume']\n",
            "\n",
            "Prediction date: 2024-12-15\n",
            "Prediction: 102174.26\n",
            "Today value: 101372.97\n",
            "Smart trade: 39.21% buy\n",
            "Vanilla trade: -\n"
          ]
        }
      ]
    },
    {
      "cell_type": "code",
      "source": [
        "# @title Training\n",
        "!python scripts/training.py --config cmamba_v"
      ],
      "metadata": {
        "id": "fVSOA2b_ssQq"
      },
      "execution_count": null,
      "outputs": []
    }
  ]
}